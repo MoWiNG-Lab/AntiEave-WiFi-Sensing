{
 "cells": [
  {
   "cell_type": "markdown",
   "id": "533686c6",
   "metadata": {},
   "source": [
    "# Random Schedule - Varying N-TXs\n",
    "\n",
    "Author: Steven M. Hernandez\n",
    "\n",
    "The goal of this notebook is used to understand how changing the number of TXs affects the eavesdropper accuracy."
   ]
  },
  {
   "cell_type": "code",
   "execution_count": 1,
   "id": "5d28285f",
   "metadata": {
    "ExecuteTime": {
     "end_time": "2023-01-14T23:29:59.143029Z",
     "start_time": "2023-01-14T23:29:59.024111Z"
    }
   },
   "outputs": [],
   "source": [
    "# \n",
    "# 0. Select experiment\n",
    "# \n",
    "import ipywidgets as widgets\n",
    "from datasets.experiment_group import ExperimentGroup\n",
    "\n",
    "google_drive_directory = f\"all_experiments/AntiEavesdrop/ttyUSB0\"\n",
    "\n",
    "experiment_group = ExperimentGroup(google_drive_directory, google_drive_directory.split(\"/\")[-1])\n",
    "experiment = experiment_group.experiments[0]"
   ]
  },
  {
   "cell_type": "code",
   "execution_count": 2,
   "id": "c3b5dc2d",
   "metadata": {
    "ExecuteTime": {
     "end_time": "2023-01-14T23:29:59.156394Z",
     "start_time": "2023-01-14T23:29:59.143919Z"
    }
   },
   "outputs": [],
   "source": [
    "all_actions = [\n",
    "    'doorway',\n",
    "    'sitting desk',\n",
    "    'standing desk',\n",
    "    'closet',\n",
    "    'empty room',\n",
    "]"
   ]
  },
  {
   "cell_type": "code",
   "execution_count": 3,
   "id": "d09921b0",
   "metadata": {
    "ExecuteTime": {
     "end_time": "2023-01-14T23:29:59.305961Z",
     "start_time": "2023-01-14T23:29:59.157360Z"
    }
   },
   "outputs": [],
   "source": [
    "from incense import ExperimentLoader\n",
    "from helpers.config import config\n",
    "\n",
    "url = config(\"omniboard\", \"anti_eavesdrop.mongodbURI\")\n",
    "db_name = config(\"omniboard\", \"anti_eavesdrop.path\").replace(\"/\", \"\")\n",
    "\n",
    "loader = ExperimentLoader(\n",
    "    mongo_uri=url,\n",
    "    db_name=db_name\n",
    ")\n",
    "\n",
    "def load_config(sacred_id):\n",
    "    client = pymongo.MongoClient(url)\n",
    "    sacred_db = client[db_name]\n",
    "    runsDF = pd.DataFrame(list(sacred_db['runs'].find({\n",
    "        'status': 'COMPLETED',\n",
    "        '_id': sacred_id,\n",
    "    }, {'captured_out': False})))\n",
    "    \n",
    "    assert(len(runsDF) == 1)\n",
    "    \n",
    "    return runsDF.iloc[0].config\n",
    "    \n"
   ]
  },
  {
   "cell_type": "code",
   "execution_count": 4,
   "id": "d8cbf9c9",
   "metadata": {
    "ExecuteTime": {
     "end_time": "2023-01-14T23:30:01.117359Z",
     "start_time": "2023-01-14T23:29:59.307799Z"
    }
   },
   "outputs": [
    {
     "name": "stdout",
     "output_type": "stream",
     "text": [
      "15\n"
     ]
    },
    {
     "data": {
      "application/vnd.jupyter.widget-view+json": {
       "model_id": "9bbfbfbec087403ba842e4a30788445d",
       "version_major": 2,
       "version_minor": 0
      },
      "text/plain": [
       "Textarea(value='tsp docker-compose exec -T jupyter ipython -c \"%run ../projects/anti_eavesdrop/train_and_evalu…"
      ]
     },
     "metadata": {},
     "output_type": "display_data"
    }
   ],
   "source": [
    "from anti_eavesdrop.train_and_evaluate__multi_tx__random_schedule import TrainAndEvaluateMultiTXRandomSchedule\n",
    "from helpers.config import config as c\n",
    "from sacred.observers import MongoObserver\n",
    "import ipywidgets as widgets\n",
    "ta = widgets.Textarea(layout={'width': '100%'})\n",
    "n = 0\n",
    "optuna_labels = {}\n",
    "\n",
    "tx_mac_addresses = {\n",
    "    'A': '7C:9E:BD:4C:9C:5C',\n",
    "    'B': 'C8:2B:96:8E:92:5C',\n",
    "    'C': '94:B9:7E:C3:82:98',\n",
    "    'D': '24:0A:C4:ED:30:50',\n",
    "    'E': '94:B9:7E:C3:95:AC',\n",
    "}\n",
    "\n",
    "tx_best_config = {\n",
    "    'A': 2137,\n",
    "    'B': 2243,\n",
    "    'C': 1909,\n",
    "    'D': 2113,\n",
    "    'E': 2219,\n",
    "}\n",
    "\n",
    "for evaluate_txs in [\n",
    "    'ABCDE',\n",
    "    'ABCD',\n",
    "    'ABC',\n",
    "    'AB',\n",
    "#     'A',\n",
    "    \n",
    "    \n",
    "    'ABCE',\n",
    "    'ABDE',\n",
    "    'ACDE',\n",
    "    \n",
    "    \n",
    "    'ABD',\n",
    "    'ABE',\n",
    "    'ACD',\n",
    "    'ACE',\n",
    "    'ADE',\n",
    "    \n",
    "    \n",
    "    'AC',\n",
    "    'AD',\n",
    "    'AE',\n",
    "]:\n",
    "    for pca in [64]:\n",
    "        for tx, mac in list(tx_mac_addresses.items())[0:1]:\n",
    "            sacred_id = tx_best_config[tx]\n",
    "            config = load_config(sacred_id)\n",
    "            config['mac_params'] = {\n",
    "                'train_mac': mac,\n",
    "                'evaluate_mac_list': [_mac for _tx, _mac in tx_mac_addresses.items() if _tx in evaluate_txs]\n",
    "            }\n",
    "            config['dataset_params']['interpolation'] = {\n",
    "                'size_in_milliseconds': 50,\n",
    "                'method': 'nearest',\n",
    "            }\n",
    "\n",
    "            label = f'anti_eavesdrop:random_schedule:train=TX-{tx}:evaluate={evaluate_txs}:{sacred_id}:pca={pca}'\n",
    "\n",
    "            config['experiment_params']['experiment_group_label'] = label\n",
    "            optuna_labels[label] = {\n",
    "                'tx_train': tx,\n",
    "                'tx_evaluate': evaluate_txs,\n",
    "                'pca': pca,\n",
    "            }\n",
    "            s = TrainAndEvaluateMultiTXRandomSchedule().tsp(config, omniboard_config='anti_eavesdrop') + \"\\ntsp -u\\n\"\n",
    "            ta.value += s\n",
    "            n += 1\n",
    "\n",
    "print(n)\n",
    "display(ta)"
   ]
  },
  {
   "cell_type": "markdown",
   "id": "c3ad1990",
   "metadata": {},
   "source": [
    "## Get Results"
   ]
  },
  {
   "cell_type": "code",
   "execution_count": 5,
   "id": "14a8a448",
   "metadata": {
    "ExecuteTime": {
     "end_time": "2023-01-14T23:30:01.533575Z",
     "start_time": "2023-01-14T23:30:01.118371Z"
    }
   },
   "outputs": [
    {
     "name": "stdout",
     "output_type": "stream",
     "text": [
      "15\n"
     ]
    },
    {
     "data": {
      "text/html": [
       "<div>\n",
       "<style scoped>\n",
       "    .dataframe tbody tr th:only-of-type {\n",
       "        vertical-align: middle;\n",
       "    }\n",
       "\n",
       "    .dataframe tbody tr th {\n",
       "        vertical-align: top;\n",
       "    }\n",
       "\n",
       "    .dataframe thead th {\n",
       "        text-align: right;\n",
       "    }\n",
       "</style>\n",
       "<table border=\"1\" class=\"dataframe\">\n",
       "  <thead>\n",
       "    <tr style=\"text-align: right;\">\n",
       "      <th></th>\n",
       "      <th>validation accuracy</th>\n",
       "      <th>tx_trained_on</th>\n",
       "      <th>tx_evaluated_on</th>\n",
       "      <th>number_of_txs</th>\n",
       "    </tr>\n",
       "  </thead>\n",
       "  <tbody>\n",
       "    <tr>\n",
       "      <th>1</th>\n",
       "      <td>71.451610</td>\n",
       "      <td>A</td>\n",
       "      <td>AB</td>\n",
       "      <td>2</td>\n",
       "    </tr>\n",
       "    <tr>\n",
       "      <th>10</th>\n",
       "      <td>60.249269</td>\n",
       "      <td>A</td>\n",
       "      <td>AC</td>\n",
       "      <td>2</td>\n",
       "    </tr>\n",
       "    <tr>\n",
       "      <th>9</th>\n",
       "      <td>74.090910</td>\n",
       "      <td>A</td>\n",
       "      <td>AD</td>\n",
       "      <td>2</td>\n",
       "    </tr>\n",
       "    <tr>\n",
       "      <th>8</th>\n",
       "      <td>46.979472</td>\n",
       "      <td>A</td>\n",
       "      <td>AE</td>\n",
       "      <td>2</td>\n",
       "    </tr>\n",
       "    <tr>\n",
       "      <th>2</th>\n",
       "      <td>62.448680</td>\n",
       "      <td>A</td>\n",
       "      <td>ABC</td>\n",
       "      <td>3</td>\n",
       "    </tr>\n",
       "    <tr>\n",
       "      <th>7</th>\n",
       "      <td>69.325513</td>\n",
       "      <td>A</td>\n",
       "      <td>ABD</td>\n",
       "      <td>3</td>\n",
       "    </tr>\n",
       "    <tr>\n",
       "      <th>14</th>\n",
       "      <td>53.636366</td>\n",
       "      <td>A</td>\n",
       "      <td>ABE</td>\n",
       "      <td>3</td>\n",
       "    </tr>\n",
       "    <tr>\n",
       "      <th>13</th>\n",
       "      <td>59.325510</td>\n",
       "      <td>A</td>\n",
       "      <td>ACD</td>\n",
       "      <td>3</td>\n",
       "    </tr>\n",
       "    <tr>\n",
       "      <th>12</th>\n",
       "      <td>40.527859</td>\n",
       "      <td>A</td>\n",
       "      <td>ACE</td>\n",
       "      <td>3</td>\n",
       "    </tr>\n",
       "    <tr>\n",
       "      <th>11</th>\n",
       "      <td>48.739004</td>\n",
       "      <td>A</td>\n",
       "      <td>ADE</td>\n",
       "      <td>3</td>\n",
       "    </tr>\n",
       "    <tr>\n",
       "      <th>3</th>\n",
       "      <td>63.958943</td>\n",
       "      <td>A</td>\n",
       "      <td>ABCD</td>\n",
       "      <td>4</td>\n",
       "    </tr>\n",
       "    <tr>\n",
       "      <th>4</th>\n",
       "      <td>46.378300</td>\n",
       "      <td>A</td>\n",
       "      <td>ABCE</td>\n",
       "      <td>4</td>\n",
       "    </tr>\n",
       "    <tr>\n",
       "      <th>5</th>\n",
       "      <td>54.618770</td>\n",
       "      <td>A</td>\n",
       "      <td>ABDE</td>\n",
       "      <td>4</td>\n",
       "    </tr>\n",
       "    <tr>\n",
       "      <th>6</th>\n",
       "      <td>42.668623</td>\n",
       "      <td>A</td>\n",
       "      <td>ACDE</td>\n",
       "      <td>4</td>\n",
       "    </tr>\n",
       "    <tr>\n",
       "      <th>0</th>\n",
       "      <td>47.140762</td>\n",
       "      <td>A</td>\n",
       "      <td>ABCDE</td>\n",
       "      <td>5</td>\n",
       "    </tr>\n",
       "  </tbody>\n",
       "</table>\n",
       "</div>"
      ],
      "text/plain": [
       "    validation accuracy tx_trained_on tx_evaluated_on  number_of_txs\n",
       "1             71.451610             A              AB              2\n",
       "10            60.249269             A              AC              2\n",
       "9             74.090910             A              AD              2\n",
       "8             46.979472             A              AE              2\n",
       "2             62.448680             A             ABC              3\n",
       "7             69.325513             A             ABD              3\n",
       "14            53.636366             A             ABE              3\n",
       "13            59.325510             A             ACD              3\n",
       "12            40.527859             A             ACE              3\n",
       "11            48.739004             A             ADE              3\n",
       "3             63.958943             A            ABCD              4\n",
       "4             46.378300             A            ABCE              4\n",
       "5             54.618770             A            ABDE              4\n",
       "6             42.668623             A            ACDE              4\n",
       "0             47.140762             A           ABCDE              5"
      ]
     },
     "metadata": {},
     "output_type": "display_data"
    },
    {
     "data": {
      "application/vnd.jupyter.widget-view+json": {
       "model_id": "3adda828693d41a3b8dad8b97025debf",
       "version_major": 2,
       "version_minor": 0
      },
      "text/plain": [
       "HTML(value='<html>\\n    <head>\\n    <meta name=\"viewport\" content=\"width=device-width, initial-scale=1\">\\n    …"
      ]
     },
     "metadata": {},
     "output_type": "display_data"
    }
   ],
   "source": [
    "from incense import ExperimentLoader\n",
    "\n",
    "url = c(\"omniboard\", \"anti_eavesdrop.mongodbURI\")\n",
    "db_name = c(\"omniboard\", \"anti_eavesdrop.path\").replace(\"/\", \"\")\n",
    "\n",
    "loader = ExperimentLoader(\n",
    "    mongo_uri=url,\n",
    "    db_name=db_name\n",
    ")\n",
    "\n",
    "experiments = loader.find({\n",
    "    'status': 'COMPLETED',\n",
    "    'config.experiment_params.experiment_group_label': {'$in': list(optuna_labels.keys())},\n",
    "})\n",
    "\n",
    "output = []\n",
    "for exp in experiments:\n",
    "    label = exp.config['experiment_params']['experiment_group_label']\n",
    "    d = {\n",
    "#         'accuracy': exp.metrics['accuracy'].iloc[-1] * 100,\n",
    "#         'label': label,\n",
    "        'validation accuracy': exp.metrics['validation accuracy'].iloc[-1] * 100,\n",
    "#             'tx': f\"TX-{tx}\",\n",
    "        'tx_trained_on': optuna_labels[label]['tx_train'],\n",
    "        'tx_evaluated_on': optuna_labels[label]['tx_evaluate'],\n",
    "        'number_of_txs': len(optuna_labels[label]['tx_evaluate']),\n",
    "#         '_id': exp._id,\n",
    "    }\n",
    "    output.append(d)\n",
    "\n",
    "df = pd.DataFrame(output).sort_values(['number_of_txs', 'tx_trained_on', 'tx_evaluated_on'])\n",
    "print(len(df))\n",
    "display(df)\n",
    "\n",
    "df.to_csv('/tmp/experiments_server/random_schedule__TX-A.csv')\n",
    "dl_btn('/tmp/experiments_server/random_schedule__TX-A.csv', 'random_schedule__TX-A.csv')"
   ]
  },
  {
   "cell_type": "code",
   "execution_count": 10,
   "id": "5d0438f1",
   "metadata": {
    "ExecuteTime": {
     "end_time": "2023-01-14T23:31:17.671411Z",
     "start_time": "2023-01-14T23:31:17.627307Z"
    }
   },
   "outputs": [
    {
     "data": {
      "text/html": [
       "        <script type=\"text/javascript\">\n",
       "        window.PlotlyConfig = {MathJaxConfig: 'local'};\n",
       "        if (window.MathJax) {MathJax.Hub.Config({SVG: {font: \"STIX-Web\"}});}\n",
       "        if (typeof require !== 'undefined') {\n",
       "        require.undef(\"plotly\");\n",
       "        requirejs.config({\n",
       "            paths: {\n",
       "                'plotly': ['https://cdn.plot.ly/plotly-2.8.3.min']\n",
       "            }\n",
       "        });\n",
       "        require(['plotly'], function(Plotly) {\n",
       "            window._Plotly = Plotly;\n",
       "        });\n",
       "        }\n",
       "        </script>\n",
       "        "
      ]
     },
     "metadata": {},
     "output_type": "display_data"
    },
    {
     "data": {
      "text/html": [
       "<div>                            <div id=\"1eacb730-d7ee-4ca4-909b-0c58f862edfe\" class=\"plotly-graph-div\" style=\"height:525px; width:100%;\"></div>            <script type=\"text/javascript\">                require([\"plotly\"], function(Plotly) {                    window.PLOTLYENV=window.PLOTLYENV || {};                                    if (document.getElementById(\"1eacb730-d7ee-4ca4-909b-0c58f862edfe\")) {                    Plotly.newPlot(                        \"1eacb730-d7ee-4ca4-909b-0c58f862edfe\",                        [{\"text\":[\"63.19%\",\"55.67%\",\"51.91%\",\"47.14%\"],\"x\":[2,3,4,5],\"y\":[63.19281533360481,55.66715548435847,51.90615877509117,47.14076220989227],\"type\":\"bar\"}],                        {\"template\":{\"data\":{\"bar\":[{\"error_x\":{\"color\":\"#2a3f5f\"},\"error_y\":{\"color\":\"#2a3f5f\"},\"marker\":{\"line\":{\"color\":\"#E5ECF6\",\"width\":0.5},\"pattern\":{\"fillmode\":\"overlay\",\"size\":10,\"solidity\":0.2}},\"type\":\"bar\"}],\"barpolar\":[{\"marker\":{\"line\":{\"color\":\"#E5ECF6\",\"width\":0.5},\"pattern\":{\"fillmode\":\"overlay\",\"size\":10,\"solidity\":0.2}},\"type\":\"barpolar\"}],\"carpet\":[{\"aaxis\":{\"endlinecolor\":\"#2a3f5f\",\"gridcolor\":\"white\",\"linecolor\":\"white\",\"minorgridcolor\":\"white\",\"startlinecolor\":\"#2a3f5f\"},\"baxis\":{\"endlinecolor\":\"#2a3f5f\",\"gridcolor\":\"white\",\"linecolor\":\"white\",\"minorgridcolor\":\"white\",\"startlinecolor\":\"#2a3f5f\"},\"type\":\"carpet\"}],\"choropleth\":[{\"colorbar\":{\"outlinewidth\":0,\"ticks\":\"\"},\"type\":\"choropleth\"}],\"contour\":[{\"colorbar\":{\"outlinewidth\":0,\"ticks\":\"\"},\"colorscale\":[[0.0,\"#0d0887\"],[0.1111111111111111,\"#46039f\"],[0.2222222222222222,\"#7201a8\"],[0.3333333333333333,\"#9c179e\"],[0.4444444444444444,\"#bd3786\"],[0.5555555555555556,\"#d8576b\"],[0.6666666666666666,\"#ed7953\"],[0.7777777777777778,\"#fb9f3a\"],[0.8888888888888888,\"#fdca26\"],[1.0,\"#f0f921\"]],\"type\":\"contour\"}],\"contourcarpet\":[{\"colorbar\":{\"outlinewidth\":0,\"ticks\":\"\"},\"type\":\"contourcarpet\"}],\"heatmap\":[{\"colorbar\":{\"outlinewidth\":0,\"ticks\":\"\"},\"colorscale\":[[0.0,\"#0d0887\"],[0.1111111111111111,\"#46039f\"],[0.2222222222222222,\"#7201a8\"],[0.3333333333333333,\"#9c179e\"],[0.4444444444444444,\"#bd3786\"],[0.5555555555555556,\"#d8576b\"],[0.6666666666666666,\"#ed7953\"],[0.7777777777777778,\"#fb9f3a\"],[0.8888888888888888,\"#fdca26\"],[1.0,\"#f0f921\"]],\"type\":\"heatmap\"}],\"heatmapgl\":[{\"colorbar\":{\"outlinewidth\":0,\"ticks\":\"\"},\"colorscale\":[[0.0,\"#0d0887\"],[0.1111111111111111,\"#46039f\"],[0.2222222222222222,\"#7201a8\"],[0.3333333333333333,\"#9c179e\"],[0.4444444444444444,\"#bd3786\"],[0.5555555555555556,\"#d8576b\"],[0.6666666666666666,\"#ed7953\"],[0.7777777777777778,\"#fb9f3a\"],[0.8888888888888888,\"#fdca26\"],[1.0,\"#f0f921\"]],\"type\":\"heatmapgl\"}],\"histogram\":[{\"marker\":{\"pattern\":{\"fillmode\":\"overlay\",\"size\":10,\"solidity\":0.2}},\"type\":\"histogram\"}],\"histogram2d\":[{\"colorbar\":{\"outlinewidth\":0,\"ticks\":\"\"},\"colorscale\":[[0.0,\"#0d0887\"],[0.1111111111111111,\"#46039f\"],[0.2222222222222222,\"#7201a8\"],[0.3333333333333333,\"#9c179e\"],[0.4444444444444444,\"#bd3786\"],[0.5555555555555556,\"#d8576b\"],[0.6666666666666666,\"#ed7953\"],[0.7777777777777778,\"#fb9f3a\"],[0.8888888888888888,\"#fdca26\"],[1.0,\"#f0f921\"]],\"type\":\"histogram2d\"}],\"histogram2dcontour\":[{\"colorbar\":{\"outlinewidth\":0,\"ticks\":\"\"},\"colorscale\":[[0.0,\"#0d0887\"],[0.1111111111111111,\"#46039f\"],[0.2222222222222222,\"#7201a8\"],[0.3333333333333333,\"#9c179e\"],[0.4444444444444444,\"#bd3786\"],[0.5555555555555556,\"#d8576b\"],[0.6666666666666666,\"#ed7953\"],[0.7777777777777778,\"#fb9f3a\"],[0.8888888888888888,\"#fdca26\"],[1.0,\"#f0f921\"]],\"type\":\"histogram2dcontour\"}],\"mesh3d\":[{\"colorbar\":{\"outlinewidth\":0,\"ticks\":\"\"},\"type\":\"mesh3d\"}],\"parcoords\":[{\"line\":{\"colorbar\":{\"outlinewidth\":0,\"ticks\":\"\"}},\"type\":\"parcoords\"}],\"pie\":[{\"automargin\":true,\"type\":\"pie\"}],\"scatter\":[{\"marker\":{\"colorbar\":{\"outlinewidth\":0,\"ticks\":\"\"}},\"type\":\"scatter\"}],\"scatter3d\":[{\"line\":{\"colorbar\":{\"outlinewidth\":0,\"ticks\":\"\"}},\"marker\":{\"colorbar\":{\"outlinewidth\":0,\"ticks\":\"\"}},\"type\":\"scatter3d\"}],\"scattercarpet\":[{\"marker\":{\"colorbar\":{\"outlinewidth\":0,\"ticks\":\"\"}},\"type\":\"scattercarpet\"}],\"scattergeo\":[{\"marker\":{\"colorbar\":{\"outlinewidth\":0,\"ticks\":\"\"}},\"type\":\"scattergeo\"}],\"scattergl\":[{\"marker\":{\"colorbar\":{\"outlinewidth\":0,\"ticks\":\"\"}},\"type\":\"scattergl\"}],\"scattermapbox\":[{\"marker\":{\"colorbar\":{\"outlinewidth\":0,\"ticks\":\"\"}},\"type\":\"scattermapbox\"}],\"scatterpolar\":[{\"marker\":{\"colorbar\":{\"outlinewidth\":0,\"ticks\":\"\"}},\"type\":\"scatterpolar\"}],\"scatterpolargl\":[{\"marker\":{\"colorbar\":{\"outlinewidth\":0,\"ticks\":\"\"}},\"type\":\"scatterpolargl\"}],\"scatterternary\":[{\"marker\":{\"colorbar\":{\"outlinewidth\":0,\"ticks\":\"\"}},\"type\":\"scatterternary\"}],\"surface\":[{\"colorbar\":{\"outlinewidth\":0,\"ticks\":\"\"},\"colorscale\":[[0.0,\"#0d0887\"],[0.1111111111111111,\"#46039f\"],[0.2222222222222222,\"#7201a8\"],[0.3333333333333333,\"#9c179e\"],[0.4444444444444444,\"#bd3786\"],[0.5555555555555556,\"#d8576b\"],[0.6666666666666666,\"#ed7953\"],[0.7777777777777778,\"#fb9f3a\"],[0.8888888888888888,\"#fdca26\"],[1.0,\"#f0f921\"]],\"type\":\"surface\"}],\"table\":[{\"cells\":{\"fill\":{\"color\":\"#EBF0F8\"},\"line\":{\"color\":\"white\"}},\"header\":{\"fill\":{\"color\":\"#C8D4E3\"},\"line\":{\"color\":\"white\"}},\"type\":\"table\"}]},\"layout\":{\"annotationdefaults\":{\"arrowcolor\":\"#2a3f5f\",\"arrowhead\":0,\"arrowwidth\":1},\"autotypenumbers\":\"strict\",\"coloraxis\":{\"colorbar\":{\"outlinewidth\":0,\"ticks\":\"\"}},\"colorscale\":{\"diverging\":[[0,\"#8e0152\"],[0.1,\"#c51b7d\"],[0.2,\"#de77ae\"],[0.3,\"#f1b6da\"],[0.4,\"#fde0ef\"],[0.5,\"#f7f7f7\"],[0.6,\"#e6f5d0\"],[0.7,\"#b8e186\"],[0.8,\"#7fbc41\"],[0.9,\"#4d9221\"],[1,\"#276419\"]],\"sequential\":[[0.0,\"#0d0887\"],[0.1111111111111111,\"#46039f\"],[0.2222222222222222,\"#7201a8\"],[0.3333333333333333,\"#9c179e\"],[0.4444444444444444,\"#bd3786\"],[0.5555555555555556,\"#d8576b\"],[0.6666666666666666,\"#ed7953\"],[0.7777777777777778,\"#fb9f3a\"],[0.8888888888888888,\"#fdca26\"],[1.0,\"#f0f921\"]],\"sequentialminus\":[[0.0,\"#0d0887\"],[0.1111111111111111,\"#46039f\"],[0.2222222222222222,\"#7201a8\"],[0.3333333333333333,\"#9c179e\"],[0.4444444444444444,\"#bd3786\"],[0.5555555555555556,\"#d8576b\"],[0.6666666666666666,\"#ed7953\"],[0.7777777777777778,\"#fb9f3a\"],[0.8888888888888888,\"#fdca26\"],[1.0,\"#f0f921\"]]},\"colorway\":[\"#636efa\",\"#EF553B\",\"#00cc96\",\"#ab63fa\",\"#FFA15A\",\"#19d3f3\",\"#FF6692\",\"#B6E880\",\"#FF97FF\",\"#FECB52\"],\"font\":{\"color\":\"#2a3f5f\"},\"geo\":{\"bgcolor\":\"white\",\"lakecolor\":\"white\",\"landcolor\":\"#E5ECF6\",\"showlakes\":true,\"showland\":true,\"subunitcolor\":\"white\"},\"hoverlabel\":{\"align\":\"left\"},\"hovermode\":\"closest\",\"mapbox\":{\"style\":\"light\"},\"paper_bgcolor\":\"white\",\"plot_bgcolor\":\"#E5ECF6\",\"polar\":{\"angularaxis\":{\"gridcolor\":\"white\",\"linecolor\":\"white\",\"ticks\":\"\"},\"bgcolor\":\"#E5ECF6\",\"radialaxis\":{\"gridcolor\":\"white\",\"linecolor\":\"white\",\"ticks\":\"\"}},\"scene\":{\"xaxis\":{\"backgroundcolor\":\"#E5ECF6\",\"gridcolor\":\"white\",\"gridwidth\":2,\"linecolor\":\"white\",\"showbackground\":true,\"ticks\":\"\",\"zerolinecolor\":\"white\"},\"yaxis\":{\"backgroundcolor\":\"#E5ECF6\",\"gridcolor\":\"white\",\"gridwidth\":2,\"linecolor\":\"white\",\"showbackground\":true,\"ticks\":\"\",\"zerolinecolor\":\"white\"},\"zaxis\":{\"backgroundcolor\":\"#E5ECF6\",\"gridcolor\":\"white\",\"gridwidth\":2,\"linecolor\":\"white\",\"showbackground\":true,\"ticks\":\"\",\"zerolinecolor\":\"white\"}},\"shapedefaults\":{\"line\":{\"color\":\"#2a3f5f\"}},\"ternary\":{\"aaxis\":{\"gridcolor\":\"white\",\"linecolor\":\"white\",\"ticks\":\"\"},\"baxis\":{\"gridcolor\":\"white\",\"linecolor\":\"white\",\"ticks\":\"\"},\"bgcolor\":\"#E5ECF6\",\"caxis\":{\"gridcolor\":\"white\",\"linecolor\":\"white\",\"ticks\":\"\"}},\"title\":{\"x\":0.05},\"xaxis\":{\"automargin\":true,\"gridcolor\":\"white\",\"linecolor\":\"white\",\"ticks\":\"\",\"title\":{\"standoff\":15},\"zerolinecolor\":\"white\",\"zerolinewidth\":2},\"yaxis\":{\"automargin\":true,\"gridcolor\":\"white\",\"linecolor\":\"white\",\"ticks\":\"\",\"title\":{\"standoff\":15},\"zerolinecolor\":\"white\",\"zerolinewidth\":2}}},\"title\":{\"text\":\"5-class Classifier\"},\"xaxis\":{\"title\":{\"text\":\"Number of TX during Evaluation\"}},\"yaxis\":{\"title\":{\"text\":\"Accuracy\"},\"range\":[0,100]}},                        {\"responsive\": true}                    ).then(function(){\n",
       "                            \n",
       "var gd = document.getElementById('1eacb730-d7ee-4ca4-909b-0c58f862edfe');\n",
       "var x = new MutationObserver(function (mutations, observer) {{\n",
       "        var display = window.getComputedStyle(gd).display;\n",
       "        if (!display || display === 'none') {{\n",
       "            console.log([gd, 'removed!']);\n",
       "            Plotly.purge(gd);\n",
       "            observer.disconnect();\n",
       "        }}\n",
       "}});\n",
       "\n",
       "// Listen for the removal of the full notebook cells\n",
       "var notebookContainer = gd.closest('#notebook-container');\n",
       "if (notebookContainer) {{\n",
       "    x.observe(notebookContainer, {childList: true});\n",
       "}}\n",
       "\n",
       "// Listen for the clearing of the current output cell\n",
       "var outputEl = gd.closest('.output');\n",
       "if (outputEl) {{\n",
       "    x.observe(outputEl, {childList: true});\n",
       "}}\n",
       "\n",
       "                        })                };                });            </script>        </div>"
      ]
     },
     "metadata": {},
     "output_type": "display_data"
    },
    {
     "data": {
      "application/vnd.jupyter.widget-view+json": {
       "model_id": "a5ced17860614bc0b81c837aadc17c58",
       "version_major": 2,
       "version_minor": 0
      },
      "text/plain": [
       "HTML(value='<html>\\n    <head>\\n    <meta name=\"viewport\" content=\"width=device-width, initial-scale=1\">\\n    …"
      ]
     },
     "metadata": {},
     "output_type": "display_data"
    }
   ],
   "source": [
    "_df = df.groupby('number_of_txs').mean()\n",
    "_df.reset_index(inplace=True)\n",
    "\n",
    "fig = go.Figure()\n",
    "fig.add_trace(go.Bar(\n",
    "    x=_df.number_of_txs,\n",
    "    y=_df['validation accuracy'],\n",
    "    text=[f\"{a:.2f}%\" for a in _df['validation accuracy']],\n",
    "))\n",
    "fig.update_layout(title=\"5-class Classifier\")\n",
    "fig.update_xaxes(title=\"Number of TX during Evaluation\")\n",
    "fig.update_yaxes(title=\"Accuracy\", range=[0, 100])\n",
    "fig.show('notebook_connected')\n",
    "\n",
    "_df[['number_of_txs', 'validation accuracy']].to_csv('/tmp/experiments_server/eavesdropper__ntxs.csv')\n",
    "dl_btn('/tmp/experiments_server/eavesdropper__ntxs.csv', 'eavesdropper__ntxs.csv')"
   ]
  },
  {
   "cell_type": "code",
   "execution_count": null,
   "id": "5dc83bab",
   "metadata": {},
   "outputs": [],
   "source": []
  },
  {
   "cell_type": "code",
   "execution_count": null,
   "id": "e4ddf3ac",
   "metadata": {},
   "outputs": [],
   "source": []
  }
 ],
 "metadata": {
  "jupytext": {
   "text_representation": {
    "extension": ".py",
    "format_name": "percent",
    "format_version": "1.3",
    "jupytext_version": "1.13.6"
   }
  },
  "kernelspec": {
   "display_name": "Python 3",
   "language": "python",
   "name": "python3"
  },
  "language_info": {
   "codemirror_mode": {
    "name": "ipython",
    "version": 3
   },
   "file_extension": ".py",
   "mimetype": "text/x-python",
   "name": "python",
   "nbconvert_exporter": "python",
   "pygments_lexer": "ipython3",
   "version": "3.8.12"
  },
  "latex_envs": {
   "LaTeX_envs_menu_present": true,
   "autoclose": false,
   "autocomplete": true,
   "bibliofile": "biblio.bib",
   "cite_by": "apalike",
   "current_citInitial": 1,
   "eqLabelWithNumbers": true,
   "eqNumInitial": 1,
   "hotkeys": {
    "equation": "Ctrl-E",
    "itemize": "Ctrl-I"
   },
   "labels_anchors": false,
   "latex_user_defs": false,
   "report_style_numbering": false,
   "user_envs_cfg": false
  },
  "toc": {
   "base_numbering": 1,
   "nav_menu": {},
   "number_sections": true,
   "sideBar": true,
   "skip_h1_title": false,
   "title_cell": "Table of Contents",
   "title_sidebar": "Contents",
   "toc_cell": false,
   "toc_position": {},
   "toc_section_display": true,
   "toc_window_display": false
  }
 },
 "nbformat": 4,
 "nbformat_minor": 5
}